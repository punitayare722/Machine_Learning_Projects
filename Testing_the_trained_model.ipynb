{
  "nbformat": 4,
  "nbformat_minor": 0,
  "metadata": {
    "colab": {
      "provenance": []
    },
    "kernelspec": {
      "name": "python3",
      "display_name": "Python 3"
    },
    "language_info": {
      "name": "python"
    }
  },
  "cells": [
    {
      "cell_type": "code",
      "source": [
        "import pickle\n",
        "import nltk\n",
        "from nltk.stem.porter import PorterStemmer\n",
        "import re\n",
        "\n",
        "# Initialize Porter Stemmer\n",
        "stemmer = PorterStemmer()\n",
        "\n",
        "# Define stemming function\n",
        "def stemming(text):\n",
        "    text = re.sub(r\"[^a-zA-Z]\", \" \", text)  # Remove special characters & numbers\n",
        "    text = text.lower().split()  # Convert to lowercase and split into words\n",
        "    text = [stemmer.stem(word) for word in text]  # Apply stemming\n",
        "    return \" \".join(text)  # Join words back into a sentence\n",
        "\n",
        "# Load trained model\n",
        "with open(\"sentiment_model.pkl\", \"rb\") as f:\n",
        "    model = pickle.load(f)\n",
        "\n",
        "# Load vectorizer\n",
        "with open(\"vectorizer.pkl\", \"rb\") as f:\n",
        "    vectorizer = pickle.load(f)\n",
        "\n",
        "# Function to predict sentiment\n",
        "def predict_sentiment(text):\n",
        "    processed_text = stemming(text)  # Now the stemming function is defined\n",
        "    transformed_text = vectorizer.transform([processed_text])\n",
        "    prediction = model.predict(transformed_text)\n",
        "    return \"Positive\" if prediction[0] == 1 else \"Negative\"\n",
        "\n",
        "# Example usage\n",
        "text = \"I love this product! It's amazing.\"\n",
        "print(predict_sentiment(text))  # Output: Positive or Negative\n"
      ],
      "metadata": {
        "colab": {
          "base_uri": "https://localhost:8080/"
        },
        "id": "CAntmwXpjsbr",
        "outputId": "fed1c17f-f39e-4271-a381-3b5b2ca06c7b"
      },
      "execution_count": 7,
      "outputs": [
        {
          "output_type": "stream",
          "name": "stdout",
          "text": [
            "Positive\n"
          ]
        }
      ]
    },
    {
      "cell_type": "code",
      "source": [
        "import joblib\n",
        "model = joblib.load(\"sentiment_model.sav\")\n",
        "\n",
        "# Load vectorizer\n",
        "vectorizer = joblib.load(\"vectorizer.sav\")\n",
        "\n",
        "# Predict sentiment\n",
        "text = \"I love this!\"\n",
        "transformed_text = vectorizer.transform([text])\n",
        "prediction = model.predict(transformed_text)\n",
        "print(\"Positive\" if prediction[0] == 1 else \"Negative\")"
      ],
      "metadata": {
        "colab": {
          "base_uri": "https://localhost:8080/"
        },
        "id": "Ff55E4s2oiBd",
        "outputId": "12bc282b-25e6-48ca-d66a-3a0082955b37"
      },
      "execution_count": 9,
      "outputs": [
        {
          "output_type": "stream",
          "name": "stdout",
          "text": [
            "Positive\n"
          ]
        }
      ]
    }
  ]
}